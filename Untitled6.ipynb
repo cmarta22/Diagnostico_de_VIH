{
  "nbformat": 4,
  "nbformat_minor": 0,
  "metadata": {
    "colab": {
      "provenance": [],
      "authorship_tag": "ABX9TyPkl8HJMW4qapo71rMWq+un",
      "include_colab_link": true
    },
    "kernelspec": {
      "name": "python3",
      "display_name": "Python 3"
    },
    "language_info": {
      "name": "python"
    }
  },
  "cells": [
    {
      "cell_type": "markdown",
      "metadata": {
        "id": "view-in-github",
        "colab_type": "text"
      },
      "source": [
        "<a href=\"https://colab.research.google.com/github/cmarta22/Diagnostico_de_VIH/blob/main/Untitled6.ipynb\" target=\"_parent\"><img src=\"https://colab.research.google.com/assets/colab-badge.svg\" alt=\"Open In Colab\"/></a>"
      ]
    },
    {
      "cell_type": "code",
      "execution_count": 1,
      "metadata": {
        "colab": {
          "base_uri": "https://localhost:8080/"
        },
        "id": "RiLrjFQdGJpY",
        "outputId": "eac0523b-9afd-4e3c-e6c2-e66b39417cec"
      },
      "outputs": [
        {
          "output_type": "stream",
          "name": "stdout",
          "text": [
            "Mounted at /content/drive\n"
          ]
        }
      ],
      "source": [
        "from google.colab import drive\n",
        "drive.mount('/content/drive')\n"
      ]
    },
    {
      "cell_type": "code",
      "source": [
        "import pandas as pd\n",
        "from google.colab import files"
      ],
      "metadata": {
        "id": "ng3bpET4Jcts"
      },
      "execution_count": 2,
      "outputs": []
    },
    {
      "cell_type": "code",
      "source": [
        "df1 = pd.read_excel(\"/content/drive/MyDrive/Diagnostico VIH 2018-2023.xlsx\", header=2)\n",
        "df2 = pd.read_excel(\"/content/drive/MyDrive/Tipo de Relacion 2016-2023.xlsx\", header=2)\n",
        "df3 = pd.read_excel(\"/content/drive/MyDrive/Diagnostico vih por jurisdiccion-sexo.xlsx\", header=2)\n",
        "df4 = pd.read_excel(\"/content/drive/MyDrive/Diagnosticos casos- tasas-2018-2023.xlsx\", header=2)"
      ],
      "metadata": {
        "id": "p4O4PNOAK0iL"
      },
      "execution_count": 31,
      "outputs": []
    },
    {
      "cell_type": "code",
      "source": [
        "#  Ver columnas de cada dataset\n",
        "print(\"Columnas df1:\")\n",
        "print(df1.columns)\n",
        "print(\"\\nColumnas df2:\")\n",
        "print(df2.columns)\n",
        "print(\"\\nColumnas df3:\")\n",
        "print(df3.columns)\n",
        "print(\"\\nColumnas df4:\")\n",
        "print(df4.columns)"
      ],
      "metadata": {
        "colab": {
          "base_uri": "https://localhost:8080/"
        },
        "id": "a3u3fESFMD5r",
        "outputId": "f1b4dc34-d337-4018-bbb0-781508e4c261"
      },
      "execution_count": 32,
      "outputs": [
        {
          "output_type": "stream",
          "name": "stdout",
          "text": [
            "Columnas df1:\n",
            "Index(['Buenos Aires', '10 a 14 años', 'Varones cis', 0.001, '0.001.1',\n",
            "       '0.001.2'],\n",
            "      dtype='object')\n",
            "\n",
            "Columnas df2:\n",
            "Index(['Buenos Aires', 'Relaciones sexuales con mujeres', 0.447, 0.389, 0.366,\n",
            "       0.324],\n",
            "      dtype='object')\n",
            "\n",
            "Columnas df3:\n",
            "Index(['Buenos Aires', 'Mujeres cis', 37, 36, 38], dtype='object')\n",
            "\n",
            "Columnas df4:\n",
            "Index(['Caba', 747, '24,3', 'Ambos sexos', 2018], dtype='object')\n"
          ]
        }
      ]
    },
    {
      "cell_type": "code",
      "source": [],
      "metadata": {
        "id": "3aavlMaKUlhJ"
      },
      "execution_count": null,
      "outputs": []
    },
    {
      "cell_type": "code",
      "source": [
        "print(df_merge_2.columns)\n",
        "print(df4.columns)"
      ],
      "metadata": {
        "colab": {
          "base_uri": "https://localhost:8080/"
        },
        "id": "dc6g2X0jQUvC",
        "outputId": "d62957d8-7cbd-4091-85ca-91725ccf32d5"
      },
      "execution_count": 33,
      "outputs": [
        {
          "output_type": "stream",
          "name": "stdout",
          "text": [
            "Index(['JURISDICCION', 'EDAD', 'SEXO', '2018-2019_x', '2020-2021_x',\n",
            "       '2022-2023_x', 'TIPO DE RELACION', '2016-2017', '2018-2019_y',\n",
            "       '2020-2021_y', '2022-2023_y', '2018-2019', '2020-2021', '2022-203'],\n",
            "      dtype='object')\n",
            "Index(['Caba', 747, '24,3', 'Ambos sexos', 2018], dtype='object')\n"
          ]
        }
      ]
    },
    {
      "cell_type": "code",
      "source": [
        "print(\"Columnas de df_merge_2:\", df_merge_2.columns.tolist())\n",
        "print(\"Columnas de df4:\", df4.columns.tolist())"
      ],
      "metadata": {
        "colab": {
          "base_uri": "https://localhost:8080/"
        },
        "id": "nzoc0uXzQ4pz",
        "outputId": "685a0ffd-f9aa-4c3f-dd8d-81e9517dddea"
      },
      "execution_count": 37,
      "outputs": [
        {
          "output_type": "stream",
          "name": "stdout",
          "text": [
            "Columnas de df_merge_2: ['JURISDICCION', 'EDAD', 'SEXO', '2018-2019_x', '2020-2021_x', '2022-2023_x', 'TIPO DE RELACION', '2016-2017', '2018-2019_y', '2020-2021_y', '2022-2023_y', '2018-2019', '2020-2021', '2022-203']\n",
            "Columnas de df4: ['Caba', 747, '24,3', 'Ambos sexos', 2018]\n"
          ]
        }
      ]
    },
    {
      "cell_type": "code",
      "source": [
        "# 3. Corregir el nombre de la columna en df4 (para estandarizar sin tilde)\n",
        "df4 = df4.rename(columns={'JURISDICCIÓN': 'JURISDICCION'})"
      ],
      "metadata": {
        "id": "RhSV4YNpZe_x"
      },
      "execution_count": 48,
      "outputs": []
    },
    {
      "cell_type": "code",
      "source": [
        "print(\"--- Columnas de df1 ---\")\n",
        "print(df1.columns.tolist())\n",
        "\n",
        "print(\"\\n--- Columnas de df2 ---\")\n",
        "print(df2.columns.tolist())"
      ],
      "metadata": {
        "colab": {
          "base_uri": "https://localhost:8080/"
        },
        "id": "yXvHFl3NZ2tJ",
        "outputId": "eb03e024-1030-4eb1-bce7-512f4bd76dd0"
      },
      "execution_count": 50,
      "outputs": [
        {
          "output_type": "stream",
          "name": "stdout",
          "text": [
            "--- Columnas de df1 ---\n",
            "['Buenos Aires', '10 a 14 años', 'Varones cis', 0.001, '0.001.1', '0.001.2']\n",
            "\n",
            "--- Columnas de df2 ---\n",
            "['Buenos Aires', 'Relaciones sexuales con mujeres', 0.447, 0.389, 0.366, 0.324]\n"
          ]
        }
      ]
    },
    {
      "cell_type": "code",
      "source": [
        "# **2. Estandarizar Claves de Fusión (por la tilde)**\n",
        "# Esto asegura que la fusión no falle por un error de ortografía si la carga fue correcta\n",
        "df4 = df4.rename(columns={'JURISDICCIÓN': 'JURISDICCION'})"
      ],
      "metadata": {
        "id": "LTbsYU8QaNLp"
      },
      "execution_count": 51,
      "outputs": []
    }
  ]
}